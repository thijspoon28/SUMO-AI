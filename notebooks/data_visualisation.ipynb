{
 "cells": [
  {
   "cell_type": "markdown",
   "metadata": {},
   "source": [
    "- Correlation Matrix\n",
    "- Scatter Plots\n",
    "\n",
    "add whatever\n"
   ]
  },
  {
   "cell_type": "code",
   "execution_count": 1,
   "metadata": {},
   "outputs": [
    {
     "name": "stdout",
     "output_type": "stream",
     "text": [
      "Project root: c:\\Users\\thijs\\Documents\\GitHub\\SUMO-AI\n",
      "Notebook directory: c:\\Users\\thijs\\Documents\\GitHub\\SUMO-AI\\notebooks\n",
      "sys.path: ['c:\\\\Users\\\\thijs\\\\Documents\\\\GitHub\\\\SUMO-AI\\\\notebooks', 'C:\\\\Program Files\\\\WindowsApps\\\\PythonSoftwareFoundation.Python.3.11_3.11.2544.0_x64__qbz5n2kfra8p0\\\\python311.zip', 'C:\\\\Program Files\\\\WindowsApps\\\\PythonSoftwareFoundation.Python.3.11_3.11.2544.0_x64__qbz5n2kfra8p0\\\\DLLs', 'C:\\\\Program Files\\\\WindowsApps\\\\PythonSoftwareFoundation.Python.3.11_3.11.2544.0_x64__qbz5n2kfra8p0\\\\Lib', 'C:\\\\Program Files\\\\WindowsApps\\\\PythonSoftwareFoundation.Python.3.11_3.11.2544.0_x64__qbz5n2kfra8p0', 'c:\\\\Users\\\\thijs\\\\Documents\\\\GitHub\\\\SUMO-AI\\\\venv', '', 'c:\\\\Users\\\\thijs\\\\Documents\\\\GitHub\\\\SUMO-AI\\\\venv\\\\Lib\\\\site-packages', 'c:\\\\Users\\\\thijs\\\\Documents\\\\GitHub\\\\SUMO-AI\\\\venv\\\\Lib\\\\site-packages\\\\win32', 'c:\\\\Users\\\\thijs\\\\Documents\\\\GitHub\\\\SUMO-AI\\\\venv\\\\Lib\\\\site-packages\\\\win32\\\\lib', 'c:\\\\Users\\\\thijs\\\\Documents\\\\GitHub\\\\SUMO-AI\\\\venv\\\\Lib\\\\site-packages\\\\Pythonwin', 'c:\\\\Users\\\\thijs\\\\Documents\\\\GitHub\\\\SUMO-AI']\n"
     ]
    }
   ],
   "source": [
    "from helpers.importing import include_root\n",
    "\n",
    "include_root()"
   ]
  },
  {
   "cell_type": "code",
   "execution_count": 2,
   "metadata": {},
   "outputs": [
    {
     "name": "stdout",
     "output_type": "stream",
     "text": [
      "SortFields.count\n"
     ]
    }
   ],
   "source": [
    "from api.enums import SortFields\n",
    "\n",
    "\n",
    "print(SortFields.count)"
   ]
  },
  {
   "cell_type": "code",
   "execution_count": null,
   "metadata": {},
   "outputs": [],
   "source": []
  }
 ],
 "metadata": {
  "kernelspec": {
   "display_name": "venv",
   "language": "python",
   "name": "python3"
  },
  "language_info": {
   "codemirror_mode": {
    "name": "ipython",
    "version": 3
   },
   "file_extension": ".py",
   "mimetype": "text/x-python",
   "name": "python",
   "nbconvert_exporter": "python",
   "pygments_lexer": "ipython3",
   "version": "3.11.9"
  }
 },
 "nbformat": 4,
 "nbformat_minor": 2
}
