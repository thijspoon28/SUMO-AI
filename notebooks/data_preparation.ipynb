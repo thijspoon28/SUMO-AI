{
 "cells": [
  {
   "cell_type": "markdown",
   "metadata": {},
   "source": [
    "## creation of the dataframe\n"
   ]
  },
  {
   "cell_type": "code",
   "execution_count": null,
   "metadata": {},
   "outputs": [
    {
     "name": "stdout",
     "output_type": "stream",
     "text": [
      "Project root: c:\\Users\\thijs\\Documents\\GitHub\\SUMO-AI\n",
      "Notebook directory: c:\\Users\\thijs\\Documents\\GitHub\\SUMO-AI\\notebooks\n",
      "sys.path: ['c:\\\\Users\\\\thijs\\\\Documents\\\\GitHub\\\\SUMO-AI\\\\notebooks', 'C:\\\\Program Files\\\\WindowsApps\\\\PythonSoftwareFoundation.Python.3.11_3.11.2544.0_x64__qbz5n2kfra8p0\\\\python311.zip', 'C:\\\\Program Files\\\\WindowsApps\\\\PythonSoftwareFoundation.Python.3.11_3.11.2544.0_x64__qbz5n2kfra8p0\\\\DLLs', 'C:\\\\Program Files\\\\WindowsApps\\\\PythonSoftwareFoundation.Python.3.11_3.11.2544.0_x64__qbz5n2kfra8p0\\\\Lib', 'C:\\\\Program Files\\\\WindowsApps\\\\PythonSoftwareFoundation.Python.3.11_3.11.2544.0_x64__qbz5n2kfra8p0', 'c:\\\\Users\\\\thijs\\\\Documents\\\\GitHub\\\\SUMO-AI\\\\venv', '', 'c:\\\\Users\\\\thijs\\\\Documents\\\\GitHub\\\\SUMO-AI\\\\venv\\\\Lib\\\\site-packages', 'c:\\\\Users\\\\thijs\\\\Documents\\\\GitHub\\\\SUMO-AI\\\\venv\\\\Lib\\\\site-packages\\\\win32', 'c:\\\\Users\\\\thijs\\\\Documents\\\\GitHub\\\\SUMO-AI\\\\venv\\\\Lib\\\\site-packages\\\\win32\\\\lib', 'c:\\\\Users\\\\thijs\\\\Documents\\\\GitHub\\\\SUMO-AI\\\\venv\\\\Lib\\\\site-packages\\\\Pythonwin', 'c:\\\\Users\\\\thijs\\\\Documents\\\\GitHub\\\\SUMO-AI']\n"
     ]
    }
   ],
   "source": [
    "from helpers.importing import include_root\n",
    "\n",
    "include_root()"
   ]
  },
  {
   "cell_type": "code",
   "execution_count": 114,
   "metadata": {},
   "outputs": [],
   "source": [
    "# import\n",
    "import pandas as pd\n",
    "from database.queries import DfQueries\n",
    "from utils.parsing import sumo_rank_to_value\n",
    "from api.sumo import SumoAPI \n",
    "\n",
    "api = SumoAPI()\n",
    "\n",
    "\n"
   ]
  },
  {
   "cell_type": "code",
   "execution_count": null,
   "metadata": {},
   "outputs": [],
   "source": []
  },
  {
   "cell_type": "code",
   "execution_count": 115,
   "metadata": {},
   "outputs": [],
   "source": [
    "#inputs data tijmen to dataframes"
   ]
  },
  {
   "cell_type": "code",
   "execution_count": 116,
   "metadata": {},
   "outputs": [
    {
     "name": "stdout",
     "output_type": "stream",
     "text": [
      "Index(['basho_id', 'rikishi_id', 'rikishi_shikona', 'rikishi_height',\n",
      "       'rikishi_weight', 'special_prize', 'yusho'],\n",
      "      dtype='object')\n",
      "Index(['basho_id', 'day', 'match_no', 'division', 'kimarite',\n",
      "       'east_rikishi_id', 'east_shikona', 'east_rank', 'east_weight',\n",
      "       'east_height', 'west_rikishi_id', 'west_shikona', 'west_rank',\n",
      "       'west_weight', 'west_height', 'winner_id', 'winner_en', 'winner_jp'],\n",
      "      dtype='object')\n"
     ]
    }
   ],
   "source": [
    "#merge dataframes\n",
    "\n",
    "df1 = DfQueries.basho_rikishi()\n",
    "df2 = DfQueries.basho_matches()\n",
    "print(df1.columns)\n",
    "print(df2.columns)\n",
    "\n",
    "# df = pd.merge(df1, df2, on='id', how='left_on') \n",
    "# df\n",
    "\n"
   ]
  },
  {
   "cell_type": "code",
   "execution_count": 117,
   "metadata": {},
   "outputs": [
    {
     "name": "stdout",
     "output_type": "stream",
     "text": [
      "\n",
      "0        1\n",
      "1        1\n",
      "2        1\n",
      "3        0\n",
      "4        1\n",
      "        ..\n",
      "27687    1\n",
      "27688    0\n",
      "27689    1\n",
      "27690    0\n",
      "27691    0\n",
      "Name: result, Length: 27692, dtype: int64\n"
     ]
    }
   ],
   "source": [
    "result_L = []\n",
    "x = 0\n",
    "\n",
    "print()\n",
    "\n",
    "for i in df2['east_rikishi_id']:\n",
    "    # print(df2.at[df2.index[x],'east_rikishi_id'], df2.at[df2.index[x],'winner_id'])\n",
    "    if df2.at[df2.index[x],'east_rikishi_id'] == df2.at[df2.index[x],'winner_id']:\n",
    "        result_L.append(1)\n",
    "    if df2.at[df2.index[x],'west_rikishi_id'] == df2.at[df2.index[x],'winner_id']:\n",
    "        result_L.append(0)   \n",
    "    x += 1\n",
    "df2.insert(len(df2.columns), 'result', result_L)\n",
    "# print(df2)\n",
    "print(df2['result'])\n"
   ]
  },
  {
   "cell_type": "code",
   "execution_count": 118,
   "metadata": {},
   "outputs": [
    {
     "name": "stdout",
     "output_type": "stream",
     "text": [
      "Banzuke-gai list index out of range\n",
      "Banzuke-gai list index out of range\n",
      "Banzuke-gai list index out of range\n",
      "Banzuke-gai list index out of range\n",
      "Banzuke-gai list index out of range\n",
      "Banzuke-gai list index out of range\n",
      "Banzuke-gai list index out of range\n",
      "Banzuke-gai list index out of range\n",
      "Banzuke-gai list index out of range\n",
      "Banzuke-gai list index out of range\n",
      "Banzuke-gai list index out of range\n",
      "Banzuke-gai list index out of range\n",
      "Banzuke-gai list index out of range\n",
      "Banzuke-gai list index out of range\n",
      "Banzuke-gai list index out of range\n",
      "Banzuke-gai list index out of range\n",
      "Banzuke-gai list index out of range\n",
      "Banzuke-gai list index out of range\n",
      "Banzuke-gai list index out of range\n",
      "Banzuke-gai list index out of range\n",
      "Banzuke-gai list index out of range\n",
      "Banzuke-gai list index out of range\n",
      "Banzuke-gai list index out of range\n",
      "Banzuke-gai list index out of range\n",
      "Banzuke-gai list index out of range\n",
      "Banzuke-gai list index out of range\n",
      "Banzuke-gai list index out of range\n",
      "Banzuke-gai list index out of range\n",
      "Banzuke-gai list index out of range\n",
      "Banzuke-gai list index out of range\n",
      "Banzuke-gai list index out of range\n",
      "Banzuke-gai list index out of range\n",
      "Banzuke-gai list index out of range\n",
      "Banzuke-gai list index out of range\n",
      "Banzuke-gai list index out of range\n",
      "Banzuke-gai list index out of range\n",
      "Banzuke-gai list index out of range\n",
      "Banzuke-gai list index out of range\n",
      "Banzuke-gai list index out of range\n",
      "Banzuke-gai list index out of range\n",
      "Banzuke-gai list index out of range\n",
      "Banzuke-gai list index out of range\n",
      "Banzuke-gai list index out of range\n",
      "Banzuke-gai list index out of range\n",
      "Banzuke-gai list index out of range\n",
      "Banzuke-gai list index out of range\n",
      "Banzuke-gai list index out of range\n",
      "Banzuke-gai list index out of range\n",
      "Banzuke-gai list index out of range\n",
      "Banzuke-gai list index out of range\n",
      "Banzuke-gai list index out of range\n",
      "Banzuke-gai list index out of range\n",
      "Banzuke-gai list index out of range\n",
      "Banzuke-gai list index out of range\n",
      "Banzuke-gai list index out of range\n",
      "Banzuke-gai list index out of range\n",
      "Banzuke-gai list index out of range\n",
      "Banzuke-gai list index out of range\n",
      "Banzuke-gai list index out of range\n",
      "Banzuke-gai list index out of range\n",
      "Banzuke-gai list index out of range\n",
      "Banzuke-gai list index out of range\n",
      "Banzuke-gai list index out of range\n",
      "Banzuke-gai list index out of range\n",
      "Banzuke-gai list index out of range\n",
      "Banzuke-gai list index out of range\n",
      "Banzuke-gai list index out of range\n",
      "Banzuke-gai list index out of range\n",
      "Banzuke-gai list index out of range\n",
      "Banzuke-gai list index out of range\n",
      "Banzuke-gai list index out of range\n",
      "Banzuke-gai list index out of range\n",
      "Banzuke-gai list index out of range\n",
      "Banzuke-gai list index out of range\n",
      "Banzuke-gai list index out of range\n",
      "Banzuke-gai list index out of range\n",
      "Banzuke-gai list index out of range\n",
      "Banzuke-gai list index out of range\n",
      "Banzuke-gai list index out of range\n",
      "Banzuke-gai list index out of range\n",
      "Banzuke-gai list index out of range\n",
      "Banzuke-gai list index out of range\n",
      "Banzuke-gai list index out of range\n",
      "Banzuke-gai list index out of range\n",
      "Banzuke-gai list index out of range\n",
      "Banzuke-gai list index out of range\n",
      "Banzuke-gai list index out of range\n",
      "Banzuke-gai list index out of range\n",
      "Banzuke-gai list index out of range\n",
      "Banzuke-gai list index out of range\n",
      "Banzuke-gai list index out of range\n",
      "Banzuke-gai list index out of range\n",
      "Banzuke-gai list index out of range\n",
      "Banzuke-gai list index out of range\n",
      "Banzuke-gai list index out of range\n",
      "Banzuke-gai list index out of range\n",
      "Banzuke-gai list index out of range\n",
      "Banzuke-gai list index out of range\n",
      "Banzuke-gai list index out of range\n",
      "Banzuke-gai list index out of range\n",
      "Banzuke-gai list index out of range\n",
      "Banzuke-gai list index out of range\n",
      "Banzuke-gai list index out of range\n",
      "Banzuke-gai list index out of range\n",
      "Banzuke-gai list index out of range\n",
      "Banzuke-gai list index out of range\n",
      "Banzuke-gai list index out of range\n",
      "Banzuke-gai list index out of range\n",
      "Banzuke-gai list index out of range\n",
      "Banzuke-gai list index out of range\n",
      "Banzuke-gai list index out of range\n",
      "Banzuke-gai list index out of range\n",
      "Banzuke-gai list index out of range\n",
      "Banzuke-gai list index out of range\n",
      "Banzuke-gai list index out of range\n",
      "Banzuke-gai list index out of range\n",
      "Banzuke-gai list index out of range\n",
      "Banzuke-gai list index out of range\n",
      "Banzuke-gai list index out of range\n",
      "Banzuke-gai list index out of range\n",
      "Banzuke-gai list index out of range\n",
      "Banzuke-gai list index out of range\n",
      "Banzuke-gai list index out of range\n",
      "Banzuke-gai list index out of range\n",
      "Banzuke-gai list index out of range\n",
      "Banzuke-gai list index out of range\n",
      "Banzuke-gai list index out of range\n",
      "Banzuke-gai list index out of range\n",
      "Banzuke-gai list index out of range\n",
      "Banzuke-gai list index out of range\n",
      "Banzuke-gai list index out of range\n",
      "Banzuke-gai list index out of range\n",
      "Banzuke-gai list index out of range\n",
      "Banzuke-gai list index out of range\n",
      "Banzuke-gai list index out of range\n",
      "Banzuke-gai list index out of range\n",
      "Banzuke-gai list index out of range\n",
      "Banzuke-gai list index out of range\n",
      "Banzuke-gai list index out of range\n",
      "Banzuke-gai list index out of range\n",
      "Banzuke-gai list index out of range\n",
      "Banzuke-gai list index out of range\n",
      "Banzuke-gai list index out of range\n",
      "Banzuke-gai list index out of range\n",
      "Banzuke-gai list index out of range\n",
      "Banzuke-gai list index out of range\n",
      "Banzuke-gai list index out of range\n",
      "Banzuke-gai list index out of range\n",
      "Banzuke-gai list index out of range\n",
      "Banzuke-gai list index out of range\n",
      "Banzuke-gai list index out of range\n",
      "Banzuke-gai list index out of range\n",
      "Banzuke-gai list index out of range\n",
      "Banzuke-gai list index out of range\n",
      "Banzuke-gai list index out of range\n",
      "Banzuke-gai list index out of range\n",
      "Banzuke-gai list index out of range\n",
      "Banzuke-gai list index out of range\n",
      "Banzuke-gai list index out of range\n",
      "Banzuke-gai list index out of range\n",
      "Banzuke-gai list index out of range\n",
      "Banzuke-gai list index out of range\n",
      "Banzuke-gai list index out of range\n",
      "Banzuke-gai list index out of range\n",
      "Banzuke-gai list index out of range\n",
      "Banzuke-gai list index out of range\n",
      "Banzuke-gai list index out of range\n",
      "Banzuke-gai list index out of range\n",
      "Banzuke-gai list index out of range\n",
      "Banzuke-gai list index out of range\n",
      "Banzuke-gai list index out of range\n",
      "Banzuke-gai list index out of range\n",
      "Banzuke-gai list index out of range\n",
      "Banzuke-gai list index out of range\n",
      "Banzuke-gai list index out of range\n",
      "Banzuke-gai list index out of range\n",
      "Banzuke-gai list index out of range\n",
      "Banzuke-gai list index out of range\n",
      "Banzuke-gai list index out of range\n",
      "Banzuke-gai list index out of range\n",
      "Banzuke-gai list index out of range\n",
      "Banzuke-gai list index out of range\n",
      "Banzuke-gai list index out of range\n",
      "Banzuke-gai list index out of range\n",
      "Banzuke-gai list index out of range\n",
      "Banzuke-gai list index out of range\n",
      "Banzuke-gai list index out of range\n",
      "Banzuke-gai list index out of range\n",
      "Banzuke-gai list index out of range\n",
      "Banzuke-gai list index out of range\n",
      "Banzuke-gai list index out of range\n",
      "Banzuke-gai list index out of range\n",
      "Banzuke-gai list index out of range\n",
      "Banzuke-gai list index out of range\n",
      "Banzuke-gai list index out of range\n",
      "Banzuke-gai list index out of range\n"
     ]
    }
   ],
   "source": [
    "df2[\"east_rank_value\"] = df2[\"east_rank\"].apply(sumo_rank_to_value)\n",
    "df2[\"west_rank_value\"] = df2[\"west_rank\"].apply(sumo_rank_to_value)\n",
    "\n"
   ]
  },
  {
   "cell_type": "code",
   "execution_count": 119,
   "metadata": {},
   "outputs": [
    {
     "name": "stdout",
     "output_type": "stream",
     "text": [
      "     count  lastUsage     kimarite\n",
      "0        1   195803-4   yobikaeshi\n",
      "1        3   202305-3       &nbsp;\n",
      "2        4   201809-7  tsukaminage\n",
      "3        5  199901-14    itamiwake\n",
      "4        5   202107-4    okurigake\n",
      "..     ...        ...          ...\n",
      "87   39279  202501-15    uwatenage\n",
      "88   42105  202501-15   hatakikomi\n",
      "89  108349   202211-7             \n",
      "90  124573  202501-15    oshidashi\n",
      "91  171409  202501-16     yorikiri\n",
      "\n",
      "[92 rows x 3 columns]\n"
     ]
    }
   ],
   "source": [
    "kimarite = api.get_kimarite()\n",
    "\n",
    "df4 = pd.DataFrame(kimarite.model_dump()['records'])\n",
    "print(df4)\n",
    "\n"
   ]
  },
  {
   "cell_type": "code",
   "execution_count": 120,
   "metadata": {},
   "outputs": [
    {
     "name": "stdout",
     "output_type": "stream",
     "text": [
      "      basho_id  day  match_no  division kimarite  east_rikishi_id  \\\n",
      "0       202003   15        20  Makuuchi       92             3081   \n",
      "1       201907   15        18  Makuuchi       92             3181   \n",
      "2       201903   15        21  Makuuchi       83             3081   \n",
      "3       201809   15        21  Makuuchi       82             3181   \n",
      "4       201805   15        20  Makuuchi       92             3181   \n",
      "...        ...  ...       ...       ...      ...              ...   \n",
      "27687   202309   12         3  Makuuchi       86               50   \n",
      "27688   202209   13         8  Makuuchi       91               29   \n",
      "27689   202309    3         6  Makuuchi       91               26   \n",
      "27690   202309    6         5  Makuuchi       88               26   \n",
      "27691   202309    3         4  Makuuchi       79               36   \n",
      "\n",
      "             east_shikona           east_rank  east_weight  east_height  ...  \\\n",
      "0              Hakuho Sho     Yokozuna 1 East        152.9        192.0  ...   \n",
      "1      Kakuryu Rikisaburo     Yokozuna 1 West        150.0        186.0  ...   \n",
      "2              Hakuho Sho     Yokozuna 1 East        152.9        192.0  ...   \n",
      "3      Kakuryu Rikisaburo     Yokozuna 1 West        150.0        186.0  ...   \n",
      "4      Kakuryu Rikisaburo     Yokozuna 1 West        150.0        186.0  ...   \n",
      "...                   ...                 ...          ...          ...  ...   \n",
      "27687            Kinbozan  Maegashira 14 West        178.0        195.0  ...   \n",
      "27688            Kagayaki  Maegashira 16 West        172.0        192.0  ...   \n",
      "27689           Mitakeumi   Maegashira 7 West        172.0        182.0  ...   \n",
      "27690           Mitakeumi   Maegashira 7 West        172.0        182.0  ...   \n",
      "27691            Myogiryu        Juryo 9 West        153.0        188.0  ...   \n",
      "\n",
      "             west_shikona           west_rank west_weight  west_height  \\\n",
      "0      Kakuryu Rikisaburo     Yokozuna 1 West       150.0        186.0   \n",
      "1              Hakuho Sho     Yokozuna 1 East       152.9        192.0   \n",
      "2      Kakuryu Rikisaburo     Yokozuna 1 West       150.0        186.0   \n",
      "3              Hakuho Sho     Yokozuna 1 East       152.9        192.0   \n",
      "4              Hakuho Sho     Yokozuna 1 East       152.9        192.0   \n",
      "...                   ...                 ...         ...          ...   \n",
      "27687            Kagayaki  Maegashira 16 West       172.0        192.0   \n",
      "27688            Kinbozan  Maegashira 14 West       178.0        195.0   \n",
      "27689           Hokuseiho        Juryo 3 East       164.0        200.0   \n",
      "27690           Atamifuji   Maegashira 2 West       189.0        187.0   \n",
      "27691           Atamifuji   Maegashira 2 West       189.0        187.0   \n",
      "\n",
      "       winner_id  winner_en winner_jp result  east_rank_value  west_rank_value  \n",
      "0           3081     Hakuho                1              101              101  \n",
      "1           3181    Kakuryu                1              101              101  \n",
      "2           3081     Hakuho                1              101              101  \n",
      "3           3081     Hakuho                0              101              101  \n",
      "4           3181    Kakuryu                1              101              101  \n",
      "...          ...        ...       ...    ...              ...              ...  \n",
      "27687         50   Kinbozan       金峰山      1              514              516  \n",
      "27688         50   Kinbozan                0              516              514  \n",
      "27689         26  Mitakeumi       御嶽海      1              507              603  \n",
      "27690         74  Atamifuji      熱海富士      0              507              502  \n",
      "27691         74  Atamifuji      熱海富士      0              609              502  \n",
      "\n",
      "[27692 rows x 21 columns]\n"
     ]
    }
   ],
   "source": [
    "count = 1\n",
    "for i in df4['kimarite']:\n",
    "    df2['kimarite'] = df2['kimarite'].replace(i, str(count))\n",
    "    count += 1\n",
    "print(df2)"
   ]
  },
  {
   "cell_type": "code",
   "execution_count": null,
   "metadata": {},
   "outputs": [],
   "source": []
  },
  {
   "cell_type": "code",
   "execution_count": 121,
   "metadata": {},
   "outputs": [
    {
     "ename": "KeyError",
     "evalue": "('start_date', 'end_date', 'division', 'east_rikishi_id', 'east_shikona', 'west_rikishi_id', 'west_shikona', 'winner_id', 'winner_en', 'winner_jp')",
     "output_type": "error",
     "traceback": [
      "\u001b[1;31m---------------------------------------------------------------------------\u001b[0m",
      "\u001b[1;31mKeyError\u001b[0m                                  Traceback (most recent call last)",
      "File \u001b[1;32mc:\\Users\\thijs\\Documents\\GitHub\\SUMO-AI\\venv\\Lib\\site-packages\\pandas\\core\\indexes\\base.py:3805\u001b[0m, in \u001b[0;36mIndex.get_loc\u001b[1;34m(self, key)\u001b[0m\n\u001b[0;32m   3804\u001b[0m \u001b[38;5;28;01mtry\u001b[39;00m:\n\u001b[1;32m-> 3805\u001b[0m     \u001b[38;5;28;01mreturn\u001b[39;00m \u001b[38;5;28;43mself\u001b[39;49m\u001b[38;5;241;43m.\u001b[39;49m\u001b[43m_engine\u001b[49m\u001b[38;5;241;43m.\u001b[39;49m\u001b[43mget_loc\u001b[49m\u001b[43m(\u001b[49m\u001b[43mcasted_key\u001b[49m\u001b[43m)\u001b[49m\n\u001b[0;32m   3806\u001b[0m \u001b[38;5;28;01mexcept\u001b[39;00m \u001b[38;5;167;01mKeyError\u001b[39;00m \u001b[38;5;28;01mas\u001b[39;00m err:\n",
      "File \u001b[1;32mindex.pyx:167\u001b[0m, in \u001b[0;36mpandas._libs.index.IndexEngine.get_loc\u001b[1;34m()\u001b[0m\n",
      "File \u001b[1;32mindex.pyx:196\u001b[0m, in \u001b[0;36mpandas._libs.index.IndexEngine.get_loc\u001b[1;34m()\u001b[0m\n",
      "File \u001b[1;32mpandas\\\\_libs\\\\hashtable_class_helper.pxi:7081\u001b[0m, in \u001b[0;36mpandas._libs.hashtable.PyObjectHashTable.get_item\u001b[1;34m()\u001b[0m\n",
      "File \u001b[1;32mpandas\\\\_libs\\\\hashtable_class_helper.pxi:7089\u001b[0m, in \u001b[0;36mpandas._libs.hashtable.PyObjectHashTable.get_item\u001b[1;34m()\u001b[0m\n",
      "\u001b[1;31mKeyError\u001b[0m: ('start_date', 'end_date', 'division', 'east_rikishi_id', 'east_shikona', 'west_rikishi_id', 'west_shikona', 'winner_id', 'winner_en', 'winner_jp')",
      "\nThe above exception was the direct cause of the following exception:\n",
      "\u001b[1;31mKeyError\u001b[0m                                  Traceback (most recent call last)",
      "Cell \u001b[1;32mIn[121], line 1\u001b[0m\n\u001b[1;32m----> 1\u001b[0m \u001b[38;5;28;01mdel\u001b[39;00m \u001b[43mdf2\u001b[49m\u001b[43m[\u001b[49m\u001b[38;5;124;43m'\u001b[39;49m\u001b[38;5;124;43mstart_date\u001b[39;49m\u001b[38;5;124;43m'\u001b[39;49m\u001b[43m,\u001b[49m\u001b[43m \u001b[49m\u001b[38;5;124;43m'\u001b[39;49m\u001b[38;5;124;43mend_date\u001b[39;49m\u001b[38;5;124;43m'\u001b[39;49m\u001b[43m,\u001b[49m\u001b[43m \u001b[49m\u001b[38;5;124;43m'\u001b[39;49m\u001b[38;5;124;43mdivision\u001b[39;49m\u001b[38;5;124;43m'\u001b[39;49m\u001b[43m,\u001b[49m\u001b[43m \u001b[49m\u001b[38;5;124;43m'\u001b[39;49m\u001b[38;5;124;43meast_rikishi_id\u001b[39;49m\u001b[38;5;124;43m'\u001b[39;49m\u001b[43m,\u001b[49m\u001b[43m \u001b[49m\u001b[38;5;124;43m'\u001b[39;49m\u001b[38;5;124;43meast_shikona\u001b[39;49m\u001b[38;5;124;43m'\u001b[39;49m\u001b[43m,\u001b[49m\u001b[43m \u001b[49m\u001b[38;5;124;43m'\u001b[39;49m\u001b[38;5;124;43mwest_rikishi_id\u001b[39;49m\u001b[38;5;124;43m'\u001b[39;49m\u001b[43m,\u001b[49m\u001b[43m \u001b[49m\u001b[38;5;124;43m'\u001b[39;49m\u001b[38;5;124;43mwest_shikona\u001b[39;49m\u001b[38;5;124;43m'\u001b[39;49m\u001b[43m,\u001b[49m\u001b[43m \u001b[49m\u001b[38;5;124;43m'\u001b[39;49m\u001b[38;5;124;43mwinner_id\u001b[39;49m\u001b[38;5;124;43m'\u001b[39;49m\u001b[43m,\u001b[49m\u001b[43m \u001b[49m\u001b[38;5;124;43m'\u001b[39;49m\u001b[38;5;124;43mwinner_en\u001b[39;49m\u001b[38;5;124;43m'\u001b[39;49m\u001b[43m,\u001b[49m\u001b[43m \u001b[49m\u001b[38;5;124;43m'\u001b[39;49m\u001b[38;5;124;43mwinner_jp\u001b[39;49m\u001b[38;5;124;43m'\u001b[39;49m\u001b[43m]\u001b[49m\n\u001b[0;32m      2\u001b[0m \u001b[38;5;28;01mdel\u001b[39;00m df2[\u001b[38;5;124m'\u001b[39m\u001b[38;5;124meast_rank\u001b[39m\u001b[38;5;124m'\u001b[39m, \u001b[38;5;124m'\u001b[39m\u001b[38;5;124mwest_rank\u001b[39m\u001b[38;5;124m'\u001b[39m]\n\u001b[0;32m      3\u001b[0m kimarite\n",
      "File \u001b[1;32mc:\\Users\\thijs\\Documents\\GitHub\\SUMO-AI\\venv\\Lib\\site-packages\\pandas\\core\\generic.py:4506\u001b[0m, in \u001b[0;36mNDFrame.__delitem__\u001b[1;34m(self, key)\u001b[0m\n\u001b[0;32m   4501\u001b[0m             deleted \u001b[38;5;241m=\u001b[39m \u001b[38;5;28;01mTrue\u001b[39;00m\n\u001b[0;32m   4502\u001b[0m \u001b[38;5;28;01mif\u001b[39;00m \u001b[38;5;129;01mnot\u001b[39;00m deleted:\n\u001b[0;32m   4503\u001b[0m     \u001b[38;5;66;03m# If the above loop ran and didn't delete anything because\u001b[39;00m\n\u001b[0;32m   4504\u001b[0m     \u001b[38;5;66;03m# there was no match, this call should raise the appropriate\u001b[39;00m\n\u001b[0;32m   4505\u001b[0m     \u001b[38;5;66;03m# exception:\u001b[39;00m\n\u001b[1;32m-> 4506\u001b[0m     loc \u001b[38;5;241m=\u001b[39m \u001b[38;5;28;43mself\u001b[39;49m\u001b[38;5;241;43m.\u001b[39;49m\u001b[43maxes\u001b[49m\u001b[43m[\u001b[49m\u001b[38;5;241;43m-\u001b[39;49m\u001b[38;5;241;43m1\u001b[39;49m\u001b[43m]\u001b[49m\u001b[38;5;241;43m.\u001b[39;49m\u001b[43mget_loc\u001b[49m\u001b[43m(\u001b[49m\u001b[43mkey\u001b[49m\u001b[43m)\u001b[49m\n\u001b[0;32m   4507\u001b[0m     \u001b[38;5;28mself\u001b[39m\u001b[38;5;241m.\u001b[39m_mgr \u001b[38;5;241m=\u001b[39m \u001b[38;5;28mself\u001b[39m\u001b[38;5;241m.\u001b[39m_mgr\u001b[38;5;241m.\u001b[39midelete(loc)\n\u001b[0;32m   4509\u001b[0m \u001b[38;5;66;03m# delete from the caches\u001b[39;00m\n",
      "File \u001b[1;32mc:\\Users\\thijs\\Documents\\GitHub\\SUMO-AI\\venv\\Lib\\site-packages\\pandas\\core\\indexes\\base.py:3812\u001b[0m, in \u001b[0;36mIndex.get_loc\u001b[1;34m(self, key)\u001b[0m\n\u001b[0;32m   3807\u001b[0m     \u001b[38;5;28;01mif\u001b[39;00m \u001b[38;5;28misinstance\u001b[39m(casted_key, \u001b[38;5;28mslice\u001b[39m) \u001b[38;5;129;01mor\u001b[39;00m (\n\u001b[0;32m   3808\u001b[0m         \u001b[38;5;28misinstance\u001b[39m(casted_key, abc\u001b[38;5;241m.\u001b[39mIterable)\n\u001b[0;32m   3809\u001b[0m         \u001b[38;5;129;01mand\u001b[39;00m \u001b[38;5;28many\u001b[39m(\u001b[38;5;28misinstance\u001b[39m(x, \u001b[38;5;28mslice\u001b[39m) \u001b[38;5;28;01mfor\u001b[39;00m x \u001b[38;5;129;01min\u001b[39;00m casted_key)\n\u001b[0;32m   3810\u001b[0m     ):\n\u001b[0;32m   3811\u001b[0m         \u001b[38;5;28;01mraise\u001b[39;00m InvalidIndexError(key)\n\u001b[1;32m-> 3812\u001b[0m     \u001b[38;5;28;01mraise\u001b[39;00m \u001b[38;5;167;01mKeyError\u001b[39;00m(key) \u001b[38;5;28;01mfrom\u001b[39;00m\u001b[38;5;250m \u001b[39m\u001b[38;5;21;01merr\u001b[39;00m\n\u001b[0;32m   3813\u001b[0m \u001b[38;5;28;01mexcept\u001b[39;00m \u001b[38;5;167;01mTypeError\u001b[39;00m:\n\u001b[0;32m   3814\u001b[0m     \u001b[38;5;66;03m# If we have a listlike key, _check_indexing_error will raise\u001b[39;00m\n\u001b[0;32m   3815\u001b[0m     \u001b[38;5;66;03m#  InvalidIndexError. Otherwise we fall through and re-raise\u001b[39;00m\n\u001b[0;32m   3816\u001b[0m     \u001b[38;5;66;03m#  the TypeError.\u001b[39;00m\n\u001b[0;32m   3817\u001b[0m     \u001b[38;5;28mself\u001b[39m\u001b[38;5;241m.\u001b[39m_check_indexing_error(key)\n",
      "\u001b[1;31mKeyError\u001b[0m: ('start_date', 'end_date', 'division', 'east_rikishi_id', 'east_shikona', 'west_rikishi_id', 'west_shikona', 'winner_id', 'winner_en', 'winner_jp')"
     ]
    }
   ],
   "source": [
    "del df2['start_date', 'end_date', 'division', 'east_rikishi_id', 'east_shikona', 'west_rikishi_id', 'west_shikona', 'winner_id', 'winner_en', 'winner_jp']\n",
    "del df2['east_rank', 'west_rank']\n",
    "kimarite\n",
    "\n"
   ]
  },
  {
   "cell_type": "code",
   "execution_count": 122,
   "metadata": {},
   "outputs": [],
   "source": [
    "# import matplotlib.pyplot as plt\n",
    "\n",
    "# plt.matshow(df2.corr())\n",
    "# plt.show()"
   ]
  },
  {
   "cell_type": "code",
   "execution_count": 123,
   "metadata": {},
   "outputs": [
    {
     "name": "stdout",
     "output_type": "stream",
     "text": [
      "      basho_id  day  match_no  division kimarite  east_rikishi_id  \\\n",
      "0       202003   15        20  Makuuchi       92             3081   \n",
      "1       201907   15        18  Makuuchi       92             3181   \n",
      "2       201903   15        21  Makuuchi       83             3081   \n",
      "3       201809   15        21  Makuuchi       82             3181   \n",
      "4       201805   15        20  Makuuchi       92             3181   \n",
      "...        ...  ...       ...       ...      ...              ...   \n",
      "27687   202309   12         3  Makuuchi       86               50   \n",
      "27688   202209   13         8  Makuuchi       91               29   \n",
      "27689   202309    3         6  Makuuchi       91               26   \n",
      "27690   202309    6         5  Makuuchi       88               26   \n",
      "27691   202309    3         4  Makuuchi       79               36   \n",
      "\n",
      "             east_shikona           east_rank  east_weight  east_height  ...  \\\n",
      "0              Hakuho Sho     Yokozuna 1 East        152.9        192.0  ...   \n",
      "1      Kakuryu Rikisaburo     Yokozuna 1 West        150.0        186.0  ...   \n",
      "2              Hakuho Sho     Yokozuna 1 East        152.9        192.0  ...   \n",
      "3      Kakuryu Rikisaburo     Yokozuna 1 West        150.0        186.0  ...   \n",
      "4      Kakuryu Rikisaburo     Yokozuna 1 West        150.0        186.0  ...   \n",
      "...                   ...                 ...          ...          ...  ...   \n",
      "27687            Kinbozan  Maegashira 14 West        178.0        195.0  ...   \n",
      "27688            Kagayaki  Maegashira 16 West        172.0        192.0  ...   \n",
      "27689           Mitakeumi   Maegashira 7 West        172.0        182.0  ...   \n",
      "27690           Mitakeumi   Maegashira 7 West        172.0        182.0  ...   \n",
      "27691            Myogiryu        Juryo 9 West        153.0        188.0  ...   \n",
      "\n",
      "             west_shikona           west_rank west_weight  west_height  \\\n",
      "0      Kakuryu Rikisaburo     Yokozuna 1 West       150.0        186.0   \n",
      "1              Hakuho Sho     Yokozuna 1 East       152.9        192.0   \n",
      "2      Kakuryu Rikisaburo     Yokozuna 1 West       150.0        186.0   \n",
      "3              Hakuho Sho     Yokozuna 1 East       152.9        192.0   \n",
      "4              Hakuho Sho     Yokozuna 1 East       152.9        192.0   \n",
      "...                   ...                 ...         ...          ...   \n",
      "27687            Kagayaki  Maegashira 16 West       172.0        192.0   \n",
      "27688            Kinbozan  Maegashira 14 West       178.0        195.0   \n",
      "27689           Hokuseiho        Juryo 3 East       164.0        200.0   \n",
      "27690           Atamifuji   Maegashira 2 West       189.0        187.0   \n",
      "27691           Atamifuji   Maegashira 2 West       189.0        187.0   \n",
      "\n",
      "       winner_id  winner_en winner_jp result  east_rank_value  west_rank_value  \n",
      "0           3081     Hakuho                1              101              101  \n",
      "1           3181    Kakuryu                1              101              101  \n",
      "2           3081     Hakuho                1              101              101  \n",
      "3           3081     Hakuho                0              101              101  \n",
      "4           3181    Kakuryu                1              101              101  \n",
      "...          ...        ...       ...    ...              ...              ...  \n",
      "27687         50   Kinbozan       金峰山      1              514              516  \n",
      "27688         50   Kinbozan                0              516              514  \n",
      "27689         26  Mitakeumi       御嶽海      1              507              603  \n",
      "27690         74  Atamifuji      熱海富士      0              507              502  \n",
      "27691         74  Atamifuji      熱海富士      0              609              502  \n",
      "\n",
      "[27692 rows x 21 columns]\n"
     ]
    }
   ],
   "source": [
    "print(df2)"
   ]
  },
  {
   "cell_type": "markdown",
   "metadata": {},
   "source": [
    "- check for nan values\n",
    "- replace / accept\n",
    "- all expected datatypes\n",
    "- all usable datatypes\n",
    "- add additional data depth\n",
    "\n"
   ]
  },
  {
   "cell_type": "code",
   "execution_count": 124,
   "metadata": {},
   "outputs": [
    {
     "name": "stdout",
     "output_type": "stream",
     "text": [
      "['Yokozuna 1 East' 'Yokozuna 1 West' 'Juryo 5 East' 'Makushita 7 West'\n",
      " 'Ozeki 1 West' 'Juryo 3 East' 'Juryo 3 West' 'Sekiwake 1 West'\n",
      " 'Juryo 9 East' 'Juryo 7 West' 'Ozeki 2 East' 'Juryo 12 East'\n",
      " 'Ozeki 2 West' 'Juryo 11 West' 'Maegashira 11 West' 'Makushita 4 East'\n",
      " 'Makushita 13 West' 'Makushita 23 East' 'Juryo 8 East'\n",
      " 'Makushita 56 West' 'Maegashira 10 East' 'Makushita 14 West'\n",
      " 'Maegashira 12 East' 'Sandanme 87 East' 'Juryo 5 West' 'Sandanme 81 West'\n",
      " 'Juryo 2 West' 'Maegashira 16 East' 'Jonidan 31 West' 'Makushita 7 East'\n",
      " 'Sandanme 40 West' 'Juryo 14 West' 'Maegashira 7 East' 'Makushita 3 East'\n",
      " 'Maegashira 11 East' 'Maegashira 13 East' 'Sandanme 20 East'\n",
      " 'Maegashira 1 West' 'Maegashira 12 West' 'Jonidan 46 East'\n",
      " 'Makushita 1 East' 'Makushita 6 West' 'Makushita 41 West' 'Juryo 6 East'\n",
      " 'Sandanme 6 West' 'Maegashira 6 East' 'Juryo 6 West' 'Makushita 2 West'\n",
      " 'Maegashira 8 West' 'Makushita 36 West' 'Juryo 1 East' 'Jonidan 43 West'\n",
      " 'Jonidan 14 East' 'Makushita 5 West' 'Makushita 8 East'\n",
      " 'Makushita 52 West' 'Juryo 9 West' 'Juryo 13 East' 'Sandanme 21 East'\n",
      " 'Makushita 51 West' 'Sandanme 8 West' 'Sandanme 31 West'\n",
      " 'Makushita 33 West' 'Sandanme 89 East' 'Makushita 23 West'\n",
      " 'Sandanme 52 East' 'Makushita 12 East' 'Makushita 13 East'\n",
      " 'Maegashira 9 East' 'Makushita 37 East' 'Makushita 6 East' 'Banzuke-gai'\n",
      " 'Makushita 10 East' 'Makushita 9 West' 'Makushita 48 West'\n",
      " 'Maegashira 13 West' 'Makushita 39 East' 'Maegashira 16 West'\n",
      " 'Makushita 57 East' 'Makushita 24 West' 'Maegashira 7 West'\n",
      " 'Maegashira 4 East' 'Makushita 34 West' 'Maegashira 5 West'\n",
      " 'Sandanme 39 West' 'Maegashira 4 West' 'Jonokuchi 15 West'\n",
      " 'Maegashira 14 East' 'Sekiwake 2 West' 'Makushita 53 West' 'Juryo 4 West'\n",
      " 'Sandanme 20 West' 'Juryo 11 East' 'Komusubi 1 East' 'Maegashira 10 West'\n",
      " 'Makushita 11 West' 'Maegashira 1 East' 'Jonidan 19 West'\n",
      " 'Sandanme 4 East' 'Komusubi 1 West' 'Ozeki 1 East' 'Juryo 8 West'\n",
      " 'Maegashira 2 East' 'Maegashira 6 West' 'Sekiwake 1 East'\n",
      " 'Maegashira 3 West' 'Makushita 2 East' 'Maegashira 17 East'\n",
      " 'Maegashira 5 East' 'Maegashira 2 West' 'Maegashira 14 West'\n",
      " 'Maegashira 3 East' 'Maegashira 15 East']\n"
     ]
    }
   ],
   "source": [
    "print(df2['east_rank'].unique())"
   ]
  },
  {
   "cell_type": "code",
   "execution_count": 125,
   "metadata": {},
   "outputs": [
    {
     "name": "stdout",
     "output_type": "stream",
     "text": [
      "Index(['basho_id', 'rikishi_id', 'rikishi_shikona', 'rikishi_height',\n",
      "       'rikishi_weight', 'special_prize', 'yusho'],\n",
      "      dtype='object')\n"
     ]
    }
   ],
   "source": [
    "print(df1.columns)"
   ]
  },
  {
   "cell_type": "code",
   "execution_count": null,
   "metadata": {},
   "outputs": [],
   "source": []
  },
  {
   "cell_type": "code",
   "execution_count": null,
   "metadata": {},
   "outputs": [],
   "source": []
  },
  {
   "cell_type": "code",
   "execution_count": null,
   "metadata": {},
   "outputs": [],
   "source": []
  }
 ],
 "metadata": {
  "kernelspec": {
   "display_name": "venv",
   "language": "python",
   "name": "python3"
  },
  "language_info": {
   "codemirror_mode": {
    "name": "ipython",
    "version": 3
   },
   "file_extension": ".py",
   "mimetype": "text/x-python",
   "name": "python",
   "nbconvert_exporter": "python",
   "pygments_lexer": "ipython3",
   "version": "3.11.9"
  }
 },
 "nbformat": 4,
 "nbformat_minor": 2
}
