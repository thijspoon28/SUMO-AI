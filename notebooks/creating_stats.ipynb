{
 "cells": [
  {
   "cell_type": "code",
   "execution_count": 1,
   "metadata": {},
   "outputs": [
    {
     "name": "stdout",
     "output_type": "stream",
     "text": [
      "Project root: c:\\Users\\tijme\\source\\repos\\SUMO-AI\n",
      "Notebook directory: c:\\Users\\tijme\\source\\repos\\SUMO-AI\\notebooks\n",
      "New working directory: c:\\Users\\tijme\\source\\repos\\SUMO-AI\n",
      "sys.path: ['C:\\\\Program Files\\\\WindowsApps\\\\PythonSoftwareFoundation.Python.3.11_3.11.2544.0_x64__qbz5n2kfra8p0\\\\python311.zip', 'C:\\\\Program Files\\\\WindowsApps\\\\PythonSoftwareFoundation.Python.3.11_3.11.2544.0_x64__qbz5n2kfra8p0\\\\DLLs', 'C:\\\\Program Files\\\\WindowsApps\\\\PythonSoftwareFoundation.Python.3.11_3.11.2544.0_x64__qbz5n2kfra8p0\\\\Lib', 'C:\\\\Program Files\\\\WindowsApps\\\\PythonSoftwareFoundation.Python.3.11_3.11.2544.0_x64__qbz5n2kfra8p0', 'c:\\\\Users\\\\tijme\\\\source\\\\repos\\\\SUMO-AI\\\\venv', '', 'c:\\\\Users\\\\tijme\\\\source\\\\repos\\\\SUMO-AI\\\\venv\\\\Lib\\\\site-packages', 'c:\\\\Users\\\\tijme\\\\source\\\\repos\\\\SUMO-AI\\\\venv\\\\Lib\\\\site-packages\\\\win32', 'c:\\\\Users\\\\tijme\\\\source\\\\repos\\\\SUMO-AI\\\\venv\\\\Lib\\\\site-packages\\\\win32\\\\lib', 'c:\\\\Users\\\\tijme\\\\source\\\\repos\\\\SUMO-AI\\\\venv\\\\Lib\\\\site-packages\\\\Pythonwin', 'c:\\\\Users\\\\tijme\\\\source\\\\repos\\\\SUMO-AI']\n"
     ]
    }
   ],
   "source": [
    "from helpers.importing import include_root\n",
    "\n",
    "include_root()"
   ]
  },
  {
   "cell_type": "code",
   "execution_count": 3,
   "metadata": {},
   "outputs": [],
   "source": [
    "# import\n",
    "import pandas as pd\n",
    "from database.queries import DfQueries\n",
    "from utils.parsing import sumo_rank_to_value\n",
    "from api.sumo import SumoAPI \n",
    "\n",
    "api = SumoAPI()"
   ]
  },
  {
   "cell_type": "markdown",
   "metadata": {},
   "source": [
    "iterate door matches\n",
    "\n",
    "boor beide rikishi vind time correcte data\n",
    "\n",
    "loss dataframe matchend op match id\n",
    "\n",
    "merge all\n"
   ]
  },
  {
   "cell_type": "code",
   "execution_count": 4,
   "metadata": {},
   "outputs": [
    {
     "name": "stdout",
     "output_type": "stream",
     "text": [
      "Index(['basho_id', 'rikishi_id', 'rikishi_shikona', 'rikishi_height',\n",
      "       'rikishi_weight', 'special_prize', 'yusho'],\n",
      "      dtype='object')\n",
      "Index(['basho_id', 'day', 'match_no', 'division', 'kimarite',\n",
      "       'east_rikishi_id', 'east_shikona', 'east_rank', 'east_weight',\n",
      "       'east_height', 'west_rikishi_id', 'west_shikona', 'west_rank',\n",
      "       'west_weight', 'west_height', 'winner_id', 'winner_en', 'winner_jp'],\n",
      "      dtype='object')\n"
     ]
    }
   ],
   "source": [
    "df1 = DfQueries.basho_rikishi()\n",
    "df2 = DfQueries.basho_matches()\n",
    "print(df1.columns)\n",
    "print(df2.columns)"
   ]
  },
  {
   "cell_type": "markdown",
   "metadata": {},
   "source": []
  },
  {
   "cell_type": "code",
   "execution_count": null,
   "metadata": {},
   "outputs": [
    {
     "ename": "NameError",
     "evalue": "name 'df2' is not defined",
     "output_type": "error",
     "traceback": [
      "\u001b[1;31m---------------------------------------------------------------------------\u001b[0m",
      "\u001b[1;31mNameError\u001b[0m                                 Traceback (most recent call last)",
      "Cell \u001b[1;32mIn[1], line 1\u001b[0m\n\u001b[1;32m----> 1\u001b[0m \u001b[38;5;28;01mfor\u001b[39;00m i \u001b[38;5;129;01min\u001b[39;00m \u001b[43mdf2\u001b[49m[\u001b[38;5;124m'\u001b[39m\u001b[38;5;124mmatch_no\u001b[39m\u001b[38;5;124m'\u001b[39m]:\n\u001b[0;32m      2\u001b[0m     \u001b[38;5;28mprint\u001b[39m(i)\n",
      "\u001b[1;31mNameError\u001b[0m: name 'df2' is not defined"
     ]
    }
   ],
   "source": [
    "for i in df2['match_no']:\n",
    "    print(i)"
   ]
  },
  {
   "cell_type": "code",
   "execution_count": null,
   "metadata": {},
   "outputs": [],
   "source": []
  },
  {
   "cell_type": "code",
   "execution_count": null,
   "metadata": {},
   "outputs": [],
   "source": []
  },
  {
   "cell_type": "code",
   "execution_count": null,
   "metadata": {},
   "outputs": [],
   "source": []
  }
 ],
 "metadata": {
  "kernelspec": {
   "display_name": "venv",
   "language": "python",
   "name": "python3"
  },
  "language_info": {
   "codemirror_mode": {
    "name": "ipython",
    "version": 3
   },
   "file_extension": ".py",
   "mimetype": "text/x-python",
   "name": "python",
   "nbconvert_exporter": "python",
   "pygments_lexer": "ipython3",
   "version": "3.11.9"
  }
 },
 "nbformat": 4,
 "nbformat_minor": 2
}
