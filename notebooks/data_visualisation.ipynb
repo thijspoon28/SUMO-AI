{
 "cells": [
  {
   "cell_type": "markdown",
   "metadata": {},
   "source": [
    "- Correlation Matrix\n",
    "- Scatter Plots\n",
    "\n",
    "add whatever\n"
   ]
  }
 ],
 "metadata": {
  "language_info": {
   "name": "python"
  }
 },
 "nbformat": 4,
 "nbformat_minor": 2
}
