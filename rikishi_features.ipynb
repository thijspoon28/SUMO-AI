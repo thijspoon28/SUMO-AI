{
 "cells": [
  {
   "cell_type": "markdown",
   "metadata": {},
   "source": [
    "Available statistics?:\n",
    "\n",
    "\n",
    "- total wins\n",
    "- total losses\n",
    "- etc\n",
    "- record current rank\n",
    "- rank\n",
    "- height\n",
    "- weight\n",
    "- age\n",
    "- stable\n",
    "- birthplace?\n",
    "- ratio to opponent *\n",
    "- rank opponent *\n",
    "\n",
    "- winning moves\n",
    "- rank trend\n",
    "\n",
    "- titles     \n",
    "- current rank debue\n",
    "- recent wins losses etc\n",
    "- recent winning moves\n",
    "- records based on bashi some way\n",
    "\n",
    "- handicap\n",
    "\n",
    "\n",
    "\n",
    "\n",
    "\n",
    "\n",
    "\n",
    "\n",
    "\n",
    "\n",
    "\n",
    "\n",
    "\n"
   ]
  },
  {
   "cell_type": "code",
   "execution_count": 1,
   "metadata": {},
   "outputs": [
    {
     "ename": "NameError",
     "evalue": "name 'ass' is not defined",
     "output_type": "error",
     "traceback": [
      "\u001b[1;31m---------------------------------------------------------------------------\u001b[0m",
      "\u001b[1;31mNameError\u001b[0m                                 Traceback (most recent call last)",
      "Cell \u001b[1;32mIn[1], line 1\u001b[0m\n\u001b[1;32m----> 1\u001b[0m \u001b[43mass\u001b[49m\n",
      "\u001b[1;31mNameError\u001b[0m: name 'ass' is not defined"
     ]
    }
   ],
   "source": []
  },
  {
   "cell_type": "code",
   "execution_count": null,
   "metadata": {},
   "outputs": [],
   "source": []
  }
 ],
 "metadata": {
  "kernelspec": {
   "display_name": "venv",
   "language": "python",
   "name": "python3"
  },
  "language_info": {
   "codemirror_mode": {
    "name": "ipython",
    "version": 3
   },
   "file_extension": ".py",
   "mimetype": "text/x-python",
   "name": "python",
   "nbconvert_exporter": "python",
   "pygments_lexer": "ipython3",
   "version": "3.11.9"
  }
 },
 "nbformat": 4,
 "nbformat_minor": 2
}
