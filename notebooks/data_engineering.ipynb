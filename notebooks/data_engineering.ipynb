{
 "cells": [
  {
   "cell_type": "markdown",
   "metadata": {},
   "source": [
    "- check for nan values\n",
    "- replace / accept\n",
    "- all expected datatypes\n",
    "- all usable datatypes\n",
    "- add additional data depth\n",
    "\n"
   ]
  }
 ],
 "metadata": {
  "language_info": {
   "name": "python"
  }
 },
 "nbformat": 4,
 "nbformat_minor": 2
}
