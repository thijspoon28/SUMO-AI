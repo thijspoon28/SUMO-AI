{
 "cells": [
  {
   "cell_type": "code",
   "execution_count": 1,
   "metadata": {},
   "outputs": [
    {
     "name": "stdout",
     "output_type": "stream",
     "text": [
      "Project root: c:\\Users\\thijs\\Documents\\GitHub\\SUMO-AI\n",
      "Notebook directory: c:\\Users\\thijs\\Documents\\GitHub\\SUMO-AI\\notebooks\n",
      "New working directory: c:\\Users\\thijs\\Documents\\GitHub\\SUMO-AI\n",
      "sys.path: ['c:\\\\Users\\\\thijs\\\\Documents\\\\GitHub\\\\SUMO-AI\\\\notebooks', 'C:\\\\Program Files\\\\WindowsApps\\\\PythonSoftwareFoundation.Python.3.11_3.11.2544.0_x64__qbz5n2kfra8p0\\\\python311.zip', 'C:\\\\Program Files\\\\WindowsApps\\\\PythonSoftwareFoundation.Python.3.11_3.11.2544.0_x64__qbz5n2kfra8p0\\\\DLLs', 'C:\\\\Program Files\\\\WindowsApps\\\\PythonSoftwareFoundation.Python.3.11_3.11.2544.0_x64__qbz5n2kfra8p0\\\\Lib', 'C:\\\\Program Files\\\\WindowsApps\\\\PythonSoftwareFoundation.Python.3.11_3.11.2544.0_x64__qbz5n2kfra8p0', 'c:\\\\Users\\\\thijs\\\\Documents\\\\GitHub\\\\SUMO-AI\\\\venv', '', 'c:\\\\Users\\\\thijs\\\\Documents\\\\GitHub\\\\SUMO-AI\\\\venv\\\\Lib\\\\site-packages', 'c:\\\\Users\\\\thijs\\\\Documents\\\\GitHub\\\\SUMO-AI\\\\venv\\\\Lib\\\\site-packages\\\\win32', 'c:\\\\Users\\\\thijs\\\\Documents\\\\GitHub\\\\SUMO-AI\\\\venv\\\\Lib\\\\site-packages\\\\win32\\\\lib', 'c:\\\\Users\\\\thijs\\\\Documents\\\\GitHub\\\\SUMO-AI\\\\venv\\\\Lib\\\\site-packages\\\\Pythonwin', 'c:\\\\Users\\\\thijs\\\\Documents\\\\GitHub\\\\SUMO-AI']\n"
     ]
    }
   ],
   "source": [
    "from helpers.importing import include_root\n",
    "\n",
    "include_root()"
   ]
  },
  {
   "cell_type": "code",
   "execution_count": 2,
   "metadata": {},
   "outputs": [],
   "source": [
    "# import\n",
    "import pandas as pd\n",
    "from database.queries import DfQueries\n",
    "from utils.parsing import sumo_rank_to_value\n",
    "from api.sumo import SumoAPI \n",
    "\n",
    "api = SumoAPI()"
   ]
  },
  {
   "cell_type": "markdown",
   "metadata": {},
   "source": [
    "iterate door matches\n",
    "\n",
    "boor beide rikishi vind time correcte data\n",
    "\n",
    "loss dataframe matchend op match id\n",
    "\n",
    "merge all\n"
   ]
  },
  {
   "cell_type": "code",
   "execution_count": 3,
   "metadata": {},
   "outputs": [
    {
     "name": "stdout",
     "output_type": "stream",
     "text": [
      "Index(['basho_id', 'rikishi_id', 'rikishi_shikona', 'rikishi_height',\n",
      "       'rikishi_weight', 'special_prize', 'yusho'],\n",
      "      dtype='object')\n",
      "Index(['basho_id', 'day', 'match_no', 'division', 'kimarite',\n",
      "       'east_rikishi_id', 'east_shikona', 'east_rank', 'east_weight',\n",
      "       'east_height', 'west_rikishi_id', 'west_shikona', 'west_rank',\n",
      "       'west_weight', 'west_height', 'winner_id', 'winner_en', 'winner_jp'],\n",
      "      dtype='object')\n"
     ]
    }
   ],
   "source": [
    "df1 = DfQueries.basho_rikishi()\n",
    "df2 = DfQueries.basho_matches()\n",
    "print(df1.columns)\n",
    "print(df2.columns)"
   ]
  },
  {
   "cell_type": "markdown",
   "metadata": {},
   "source": []
  },
  {
   "cell_type": "code",
   "execution_count": 35,
   "metadata": {},
   "outputs": [
    {
     "name": "stdout",
     "output_type": "stream",
     "text": [
      "202003 15 20\n",
      "3081 Hakuho\n",
      "3181 Kakuryu\n",
      "12\n"
     ]
    }
   ],
   "source": [
    "def rikishi_wins_this_basho(basho_id, day, rikishi):\n",
    "    df = df2.loc[df2['basho_id'] == basho_id]\n",
    "    df = df.loc[df['day'] < day]\n",
    "    return len(df[df['winner_id'] == rikishi])\n",
    "\n",
    "\n",
    "for index, i in enumerate(df2['match_no']):\n",
    "    print(df2.loc[df2.index[index], 'basho_id'], df2.loc[df2.index[index], 'day'], df2.loc[df2.index[index], 'match_no'])\n",
    "    print(df2.loc[df2.index[index], 'east_rikishi_id'], df2.loc[df2.index[index], 'east_shikona'])\n",
    "    print(df2.loc[df2.index[index], 'west_rikishi_id'], df2.loc[df2.index[index], 'west_shikona'])\n",
    "    print(rikishi_wins_this_basho(df2.loc[df2.index[index], 'basho_id'], df2.loc[df2.index[index], 'day'], df2.loc[df2.index[index], 'east_rikishi_id']))\n",
    "    break\n",
    "    "
   ]
  },
  {
   "cell_type": "code",
   "execution_count": 12,
   "metadata": {},
   "outputs": [
    {
     "name": "stdout",
     "output_type": "stream",
     "text": [
      "202003 15 20\n",
      "3081 Hakuho\n",
      "3181 Kakuryu\n",
      "['202003', '202002', '202001', '202000', '201999', '201998', '201997', '201996', '201995', '201994', '201993', '201992']\n",
      "14\n",
      "201907 15 18\n",
      "3181 Kakuryu\n",
      "3081 Hakuho\n",
      "['201907', '201906', '201905', '201904', '201903', '201902', '201901', '201900', '201899', '201898', '201897', '201896']\n",
      "35\n",
      "201903 15 21\n",
      "3081 Hakuho\n",
      "3181 Kakuryu\n",
      "['201903', '201902', '201901', '201900', '201899', '201898', '201897', '201896', '201895', '201894', '201893', '201892']\n",
      "15\n",
      "201809 15 21\n",
      "3181 Kakuryu\n",
      "3081 Hakuho\n",
      "['201809', '201808', '201807', '201806', '201805', '201804', '201803', '201802', '201801', '201800', '201799', '201798']\n",
      "40\n",
      "201805 15 20\n",
      "3181 Kakuryu\n",
      "3081 Hakuho\n",
      "['201805', '201804', '201803', '201802', '201801', '201800', '201799', '201798', '201797', '201796', '201795', '201794']\n",
      "27\n",
      "201611 13 20\n",
      "3081 Hakuho\n",
      "3181 Kakuryu\n",
      "['201611', '201610', '201609', '201608', '201607', '201606', '201605', '201604', '201603', '201602', '201601', '201600']\n",
      "50\n",
      "201605 15 21\n",
      "3081 Hakuho\n",
      "3181 Kakuryu\n",
      "['201605', '201604', '201603', '201602', '201601', '201600', '201599', '201598', '201597', '201596', '201595', '201594']\n",
      "29\n",
      "201603 13 20\n",
      "3181 Kakuryu\n",
      "3081 Hakuho\n",
      "['201603', '201602', '201601', '201600', '201599', '201598', '201597', '201596', '201595', '201594', '201593', '201592']\n",
      "10\n",
      "201511 15 19\n",
      "3181 Kakuryu\n",
      "3081 Hakuho\n",
      "['201511', '201510', '201509', '201508', '201507', '201506', '201505', '201504', '201503', '201502', '201501', '201500']\n",
      "34\n",
      "201507 15 20\n",
      "3081 Hakuho\n",
      "3181 Kakuryu\n",
      "['201507', '201506', '201505', '201504', '201503', '201502', '201501', '201500', '201499', '201498', '201497', '201496']\n",
      "39\n",
      "201411 15 21\n",
      "3081 Hakuho\n",
      "3181 Kakuryu\n",
      "['201411', '201410', '201409', '201408', '201407', '201406', '201405', '201404', '201403', '201402', '201401', '201400']\n",
      "67\n"
     ]
    }
   ],
   "source": [
    "def rikishi_wins_last_2_years(basho_id, day, rikishi):\n",
    "    basho_id = int(basho_id)\n",
    "    basho_id_range = [str(i) for i in range(basho_id, basho_id - 12, -1)]\n",
    "    print(basho_id_range)\n",
    "    df = df2.loc[df2['basho_id'].isin(basho_id_range)]\n",
    "    return len(df[df['winner_id'] == rikishi])\n",
    "\n",
    "count = 0\n",
    "\n",
    "for index, i in enumerate(df2['match_no']):\n",
    "    print(df2.loc[df2.index[index], 'basho_id'], df2.loc[df2.index[index], 'day'], df2.loc[df2.index[index], 'match_no'])\n",
    "    print(df2.loc[df2.index[index], 'east_rikishi_id'], df2.loc[df2.index[index], 'east_shikona'])\n",
    "    print(df2.loc[df2.index[index], 'west_rikishi_id'], df2.loc[df2.index[index], 'west_shikona'])\n",
    "    print(rikishi_wins_last_2_years(df2.loc[df2.index[index], 'basho_id'], df2.loc[df2.index[index], 'day'], df2.loc[df2.index[index], 'east_rikishi_id']))\n",
    "    count += 1\n",
    "    if count > 10:\n",
    "        break"
   ]
  },
  {
   "cell_type": "code",
   "execution_count": null,
   "metadata": {},
   "outputs": [],
   "source": []
  },
  {
   "cell_type": "code",
   "execution_count": null,
   "metadata": {},
   "outputs": [],
   "source": []
  }
 ],
 "metadata": {
  "kernelspec": {
   "display_name": "venv",
   "language": "python",
   "name": "python3"
  },
  "language_info": {
   "codemirror_mode": {
    "name": "ipython",
    "version": 3
   },
   "file_extension": ".py",
   "mimetype": "text/x-python",
   "name": "python",
   "nbconvert_exporter": "python",
   "pygments_lexer": "ipython3",
   "version": "3.11.9"
  }
 },
 "nbformat": 4,
 "nbformat_minor": 2
}
